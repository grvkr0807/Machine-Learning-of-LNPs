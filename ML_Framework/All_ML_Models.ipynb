{
 "cells": [
  {
   "cell_type": "markdown",
   "id": "bc7822b8-85a1-422d-9666-254ce592841a",
   "metadata": {},
   "source": [
    "# ML Models"
   ]
  },
  {
   "cell_type": "code",
   "execution_count": 4,
   "id": "d23f27a4-8eff-462e-9125-ed46cce0098d",
   "metadata": {},
   "outputs": [],
   "source": [
    "import numpy as np\n",
    "\n",
    "# Random Forest Regression\n",
    "def ML_Model_RF_Regression(X, X_train, X_test, y_train, y_test, num_estimators, num_neighbors, num_random):\n",
    "    from sklearn.ensemble import RandomForestRegressor\n",
    "    \n",
    "    # Create and train a Random Forest Regression model\n",
    "    model = RandomForestRegressor(n_estimators= num_estimators, random_state= num_random)\n",
    "    model.fit(X_train, y_train)\n",
    "    \n",
    "    # Make predictions and evaluate the model\n",
    "    y_pred = model.predict(X_test)\n",
    "    y_pred_full= model.predict(X)\n",
    "    \n",
    "    return y_pred, y_pred_full\n",
    "\n",
    "\n",
    "\n",
    "# Random Forest Classification\n",
    "def ML_Model_RF_Classification(X, X_train, X_test, y_train, y_test, num_estimators, num_neighbors, num_random):\n",
    "    from sklearn.ensemble import RandomForestClassifier\n",
    "    \n",
    "    # Create and train a Random Forest Regression model\n",
    "    model = RandomForestClassifier(n_estimators= num_estimators, random_state= num_random)\n",
    "    model.fit(X_train, y_train)\n",
    "    \n",
    "    # Make predictions and evaluate the model\n",
    "    y_pred = model.predict(X_test)\n",
    "    y_pred_full= model.predict(X)\n",
    "    \n",
    "    return y_pred, y_pred_full\n",
    "\n",
    "\n",
    "\n",
    "# SVM Classification\n",
    "def ML_Model_SVM_Classification(X, X_train, X_test, y_train, y_test, num_estimators, num_neighbors, num_random):\n",
    "    from sklearn.svm import SVC\n",
    "    \n",
    "    # Create and train a Random Forest Regression model\n",
    "    model = SVC(kernel='linear', random_state= num_random)\n",
    "    model.fit(X_train, y_train)\n",
    "    \n",
    "    # Make predictions and evaluate the model\n",
    "    y_pred = model.predict(X_test)\n",
    "    y_pred_full= model.predict(X)\n",
    "    \n",
    "    return y_pred, y_pred_full\n",
    "\n",
    "\n",
    "\n",
    "# kNN Classification\n",
    "def ML_Model_kNN_Classification(X, X_train, X_test, y_train, y_test, num_estimators, num_neighbors, num_random):\n",
    "    from sklearn.neighbors import KNeighborsClassifier\n",
    "    \n",
    "    # Create and train a Random Forest Regression model\n",
    "    model = KNeighborsClassifier(n_neighbors= num_neighbors)\n",
    "    model.fit(X_train, y_train)\n",
    "    \n",
    "    # Make predictions and evaluate the model\n",
    "    y_pred = model.predict(X_test)\n",
    "    y_pred_full= model.predict(X)\n",
    "    \n",
    "    return y_pred, y_pred_full\n",
    "\n",
    "\n",
    "\n",
    "# Gradient Boosting Classification\n",
    "def ML_Model_GB_Classification(X, X_train, X_test, y_train, y_test, num_estimators, num_neighbors, num_random):\n",
    "    from sklearn.ensemble import GradientBoostingClassifier\n",
    "    \n",
    "    # Create and train a Random Forest Regression model\n",
    "    model = GradientBoostingClassifier(n_estimators= num_estimators, random_state= num_random)\n",
    "    model.fit(X_train, y_train)\n",
    "    \n",
    "    # Make predictions and evaluate the model\n",
    "    y_pred = model.predict(X_test)\n",
    "    y_pred_full= model.predict(X)\n",
    "    \n",
    "    return y_pred, y_pred_full\n",
    "\n",
    "\n",
    "\n",
    "# Logistic Regression Classification\n",
    "def ML_Model_LR_Classification(X, X_train, X_test, y_train, y_test, num_estimators, num_neighbors, num_random):\n",
    "    from sklearn.linear_model import LogisticRegression\n",
    "    \n",
    "    # Create and train a Random Forest Regression model\n",
    "    model = LogisticRegression(max_iter= num_estimators, random_state= num_random)\n",
    "    model.fit(X_train, y_train)\n",
    "    \n",
    "    # Make predictions and evaluate the model\n",
    "    y_pred = model.predict(X_test)\n",
    "    y_pred_full= model.predict(X)\n",
    "    \n",
    "    return y_pred, y_pred_full"
   ]
  },
  {
   "cell_type": "code",
   "execution_count": 1,
   "id": "840ed056-b328-4311-b2f3-b74c07efbb71",
   "metadata": {},
   "outputs": [
    {
     "name": "stderr",
     "output_type": "stream",
     "text": [
      "[NbConvertApp] Converting notebook All_ML_Models.ipynb to script\n",
      "[NbConvertApp] Writing 3310 bytes to All_ML_Models.py\n"
     ]
    }
   ],
   "source": [
    "# !jupyter nbconvert --to script All_ML_Models.ipynb"
   ]
  },
  {
   "cell_type": "code",
   "execution_count": null,
   "id": "1eb6c014-19a2-43f7-b759-f7a498266661",
   "metadata": {},
   "outputs": [],
   "source": []
  }
 ],
 "metadata": {
  "kernelspec": {
   "display_name": "Python 3 (ipykernel)",
   "language": "python",
   "name": "python3"
  },
  "language_info": {
   "codemirror_mode": {
    "name": "ipython",
    "version": 3
   },
   "file_extension": ".py",
   "mimetype": "text/x-python",
   "name": "python",
   "nbconvert_exporter": "python",
   "pygments_lexer": "ipython3",
   "version": "3.8.18"
  }
 },
 "nbformat": 4,
 "nbformat_minor": 5
}
