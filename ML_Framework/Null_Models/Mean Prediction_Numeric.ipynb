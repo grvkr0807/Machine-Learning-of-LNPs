{
 "cells": [
  {
   "cell_type": "code",
   "execution_count": 1,
   "id": "01945c98-e7d0-421f-b14e-867fd48ec39f",
   "metadata": {},
   "outputs": [
    {
     "name": "stdout",
     "output_type": "stream",
     "text": [
      "Predicted Categories:\n",
      "[1, 1, 1, 1, 1, 1, 1, 1, 1, 1, 1, 1, 1, 1, 1, 1, 1, 1, 1, 1, 1, 1, 1, 1, 1, 1, 1, 1, 1, 1, 1, 1, 1, 1, 1, 1, 1, 1, 1, 1, 1, 1, 1, 1, 1, 1, 1, 1, 1, 1, 1, 1, 1, 1, 1, 1, 1, 1, 1, 1, 1, 1, 1, 1, 1, 1, 1, 1, 1, 1, 1, 1, 1, 1, 1, 1, 1, 1, 1, 1, 1, 1, 1, 1, 1, 1, 1, 1, 1, 1, 1, 1, 1, 1, 1, 1, 1, 1, 1, 1, 1, 1, 1, 1, 1, 1, 1, 1, 1, 1, 1, 1, 1, 1, 1]\n"
     ]
    },
    {
     "name": "stderr",
     "output_type": "stream",
     "text": [
      "C:\\Users\\grvkr\\miniconda3\\envs\\pytorch-env\\lib\\site-packages\\scipy\\stats\\_stats_py.py:4424: ConstantInputWarning: An input array is constant; the correlation coefficient is not defined.\n",
      "  warnings.warn(stats.ConstantInputWarning(msg))\n"
     ]
    },
    {
     "ename": "NameError",
     "evalue": "name 'mse' is not defined",
     "output_type": "error",
     "traceback": [
      "\u001b[1;31m---------------------------------------------------------------------------\u001b[0m",
      "\u001b[1;31mNameError\u001b[0m                                 Traceback (most recent call last)",
      "Cell \u001b[1;32mIn[1], line 111\u001b[0m\n\u001b[0;32m    108\u001b[0m PCC, _ \u001b[38;5;241m=\u001b[39m pearsonr(y_test, y_pred)\n\u001b[0;32m    110\u001b[0m \u001b[38;5;66;03m# Format the values to four decimal places\u001b[39;00m\n\u001b[1;32m--> 111\u001b[0m mse_str \u001b[38;5;241m=\u001b[39m \u001b[38;5;124mf\u001b[39m\u001b[38;5;124m\"\u001b[39m\u001b[38;5;132;01m{\u001b[39;00mmse\u001b[38;5;132;01m:\u001b[39;00m\u001b[38;5;124m.4f\u001b[39m\u001b[38;5;132;01m}\u001b[39;00m\u001b[38;5;124m\"\u001b[39m\n\u001b[0;32m    112\u001b[0m accuracy_str \u001b[38;5;241m=\u001b[39m \u001b[38;5;124mf\u001b[39m\u001b[38;5;124m\"\u001b[39m\u001b[38;5;132;01m{\u001b[39;00maccuracy\u001b[38;5;132;01m:\u001b[39;00m\u001b[38;5;124m.4f\u001b[39m\u001b[38;5;132;01m}\u001b[39;00m\u001b[38;5;124m\"\u001b[39m\n\u001b[0;32m    113\u001b[0m precision_str \u001b[38;5;241m=\u001b[39m \u001b[38;5;124mf\u001b[39m\u001b[38;5;124m\"\u001b[39m\u001b[38;5;132;01m{\u001b[39;00mprecision\u001b[38;5;132;01m:\u001b[39;00m\u001b[38;5;124m.4f\u001b[39m\u001b[38;5;132;01m}\u001b[39;00m\u001b[38;5;124m\"\u001b[39m\n",
      "\u001b[1;31mNameError\u001b[0m: name 'mse' is not defined"
     ]
    }
   ],
   "source": [
    "import pandas as pd\n",
    "import numpy as np\n",
    "from rdkit import Chem\n",
    "from rdkit.Chem import Descriptors\n",
    "from sklearn.model_selection import train_test_split\n",
    "from sklearn.metrics import mean_squared_error\n",
    "\n",
    "# Define a function to convert SMILES to molecules\n",
    "def smiles_to_molecule(smiles):\n",
    "    return Chem.MolFromSmiles(smiles)\n",
    "\n",
    "ipc_index= [42]   # index of descriptor ipc to be removed as it has extremely large value\n",
    "\n",
    "# Load the data from the Excel files\n",
    "smiles_file = r\"C:\\Users\\grvkr\\Box\\Gaurav Kumar\\Purdue_Work\\SAR_NM\\Data\\Siegwart_group_Data1_2021\\Activity\\SMILES_old.xlsx\" \n",
    "target_file = r\"C:\\Users\\grvkr\\Box\\Gaurav Kumar\\Purdue_Work\\SAR_NM\\Data\\Siegwart_group_Data1_2021\\Activity\\Activity_old.xlsx\" \n",
    "\n",
    "smiles_df = pd.read_excel(smiles_file)\n",
    "target_df = pd.read_excel(target_file)\n",
    "\n",
    "# Initialize empty lists for features and target values\n",
    "X = []\n",
    "y = []\n",
    "\n",
    "# Define the number of rows and columns\n",
    "Nrows = 572\n",
    "Ncolumns = 1\n",
    "\n",
    "# Iterate through rows and columns of both dataframes\n",
    "for i in range(Nrows):\n",
    "    for j in range(Ncolumns):\n",
    "        if i < len(smiles_df) and i < len(target_df):  # Check if the row index is within bounds\n",
    "            smiles = smiles_df.iloc[i, j]\n",
    "            target = target_df.iloc[i, j]\n",
    "\n",
    "            molecule = smiles_to_molecule(smiles)\n",
    "            if molecule is not None:  # Check if the SMILES is valid\n",
    "                # Calculate all molecular descriptors as a dictionary\n",
    "                molecular_descriptors_dict = Descriptors.CalcMolDescriptors(molecule)   \n",
    "                # Extract the values from the dictionary and append to X\n",
    "                molecular_descriptors = [value for value in molecular_descriptors_dict.values()]\n",
    "                molecular_descriptors= np.array(molecular_descriptors)\n",
    "                molecular_descriptors= np.delete(molecular_descriptors, ipc_index)\n",
    "                \n",
    "                X.append(molecular_descriptors)\n",
    "                y.append(target)\n",
    "\n",
    "# Convert the lists to NumPy arrays\n",
    "X = np.array(X)\n",
    "y = np.array(y)\n",
    "\n",
    "# Split the data into training and testing sets\n",
    "X_train, X_test, y_train, y_test = train_test_split(X, y, test_size=0.2, random_state=42)\n",
    "\n",
    "# Mean prediction model\n",
    "mean_value = np.mean(y_train)\n",
    "y_pred = np.full_like(y_test, mean_value)\n",
    "\n",
    "\n",
    "\n",
    "# Define the target value categories based on the updated ranges\n",
    "category_ranges = [(0, 25000), (25000, float('inf'))]  # Two ranges for luciferase expression\n",
    "# category_ranges = [(0, 90), (90, float('inf'))]  # Two ranges for cell viability\n",
    "categories = [1, 2]  # Two categories\n",
    "\n",
    "# Classify the predictions into categories based on the updated ranges\n",
    "y_classified = []\n",
    "\n",
    "for prediction in y_pred:\n",
    "    for i, (start, end) in enumerate(category_ranges):\n",
    "        if start <= prediction < end:\n",
    "            y_classified.append(categories[i])\n",
    "            break\n",
    "\n",
    "# Print the results\n",
    "print(\"Predicted Categories:\")\n",
    "print(y_classified)\n",
    "\n",
    "# # If you want to add the predicted categories to your original DataFrame, you can do the following:\n",
    "# test_df = pd.DataFrame({'Prediction': y_pred, 'Category': y_classified})\n",
    "# print(test_df)\n",
    "\n",
    "\n",
    "from sklearn.metrics import classification_report, accuracy_score, precision_score, recall_score, f1_score\n",
    "from sklearn.metrics import balanced_accuracy_score, roc_auc_score, r2_score, mean_absolute_percentage_error, matthews_corrcoef\n",
    "from scipy.stats import pearsonr\n",
    "\n",
    "\n",
    "# Define the true categories based on the target value ranges\n",
    "true_categories = []\n",
    "\n",
    "for prediction in y_test:\n",
    "    for i, (start, end) in enumerate(category_ranges):\n",
    "        if start <= prediction < end:\n",
    "            true_categories.append(categories[i])\n",
    "            break\n",
    "\n",
    "# Calculate accuracy, precision, recall, and F1-score\n",
    "accuracy = accuracy_score(true_categories, y_classified)\n",
    "balanced_accuracy = balanced_accuracy_score(true_categories, y_classified)\n",
    "precision = precision_score(true_categories, y_classified, average='weighted', labels=np.unique(y_classified))\n",
    "recall = recall_score(true_categories, y_classified, average='weighted', labels=np.unique(y_classified))\n",
    "f1 = f1_score(true_categories, y_classified, average='weighted', labels=np.unique(y_classified))\n",
    "roc_auc = roc_auc_score(true_categories, y_classified)\n",
    "r2 = r2_score(y_test, y_pred)\n",
    "MAPE = mean_absolute_percentage_error(y_test, y_pred)\n",
    "MCC= matthews_corrcoef(true_categories, y_classified)\n",
    "PCC, _ = pearsonr(y_test, y_pred)\n",
    "\n",
    "# # Format the values to four decimal places\n",
    "# accuracy_str = f\"{accuracy:.4f}\"\n",
    "# precision_str = f\"{precision:.4f}\"\n",
    "# recall_str = f\"{recall:.4f}\"\n",
    "# f1_str = f\"{f1:.4f}\"\n",
    "# balanced_accuracy_str = f\"{balanced_accuracy:.4f}\"\n",
    "# roc_auc_str = f\"{roc_auc:.4f}\"\n",
    "# r2_str = f\"{r2:.4f}\"\n",
    "# MAPE_str = f\"{MAPE:.4f}\"\n",
    "# MCC_str = f\"{MCC:.4f}\"\n",
    "# PCC_str = f\"{PCC:.4f}\"\n",
    "\n",
    "# Generate a classification report\n",
    "classification_report_result = classification_report(true_categories, y_classified, labels=np.unique(y_classified), target_names=[\"Category 1\", \"Category 2\"])\n",
    "# print(\"Classification Report:\\n\", classification_report_result)\n",
    "print(accuracy)\n",
    "\n",
    "\n",
    "\n"
   ]
  },
  {
   "cell_type": "code",
   "execution_count": 2,
   "id": "433b195a-4af1-4d9b-9766-b08d21a06e91",
   "metadata": {},
   "outputs": [
    {
     "name": "stdout",
     "output_type": "stream",
     "text": [
      "0.8260869565217391\n"
     ]
    }
   ],
   "source": [
    "print(accuracy)"
   ]
  },
  {
   "cell_type": "code",
   "execution_count": null,
   "id": "b2de5687-26c7-4b3e-b42f-2ec9241fab51",
   "metadata": {},
   "outputs": [],
   "source": []
  }
 ],
 "metadata": {
  "kernelspec": {
   "display_name": "Python 3 (ipykernel)",
   "language": "python",
   "name": "python3"
  },
  "language_info": {
   "codemirror_mode": {
    "name": "ipython",
    "version": 3
   },
   "file_extension": ".py",
   "mimetype": "text/x-python",
   "name": "python",
   "nbconvert_exporter": "python",
   "pygments_lexer": "ipython3",
   "version": "3.8.18"
  }
 },
 "nbformat": 4,
 "nbformat_minor": 5
}
