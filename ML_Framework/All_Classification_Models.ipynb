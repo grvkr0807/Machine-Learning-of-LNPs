{
 "cells": [
  {
   "cell_type": "code",
   "execution_count": null,
   "id": "38bbcd89-75d6-42ee-a099-d8001a40c05c",
   "metadata": {},
   "outputs": [],
   "source": [
    "import numpy as np"
   ]
  },
  {
   "cell_type": "markdown",
   "id": "70cd3502-6606-4eac-a16c-2bc8db638d8e",
   "metadata": {},
   "source": [
    "# Binary Classifier"
   ]
  },
  {
   "cell_type": "code",
   "execution_count": 11,
   "id": "ff157925-e0f7-4f9a-848d-8ddf66f06b95",
   "metadata": {},
   "outputs": [],
   "source": [
    "def Binary_Classifier(y_test, y_pred, low, mid, high):\n",
    "    from sklearn.metrics import classification_report, accuracy_score, precision_score, recall_score, f1_score\n",
    "    from sklearn.metrics import balanced_accuracy_score, roc_auc_score, r2_score, mean_absolute_percentage_error, matthews_corrcoef\n",
    "    from scipy.stats import pearsonr, spearmanr\n",
    "    \n",
    "    # Define the target value categories based on the updated ranges\n",
    "    category_ranges = [(low, mid), (mid, high)]  # Two ranges\n",
    "    categories = [1, 2]  # Two categories\n",
    "    \n",
    "    # Classify the predictions into categories based on the updated ranges\n",
    "    y_classified = []\n",
    "    \n",
    "    for prediction in y_pred:\n",
    "        for i, (start, end) in enumerate(category_ranges):\n",
    "            if start <= prediction < end:\n",
    "                y_classified.append(categories[i])\n",
    "                break\n",
    "    \n",
    "    # Define the true categories based on the target value ranges\n",
    "    true_categories = []\n",
    "    \n",
    "    for prediction in y_test:\n",
    "        for i, (start, end) in enumerate(category_ranges):\n",
    "            if start <= prediction < end:\n",
    "                true_categories.append(categories[i])\n",
    "                break\n",
    "    \n",
    "    # Calculate accuracy, precision, recall, and F1-score\n",
    "    accuracy = accuracy_score(true_categories, y_classified)\n",
    "    balanced_accuracy = balanced_accuracy_score(true_categories, y_classified)\n",
    "    precision = precision_score(true_categories, y_classified, average='weighted', labels=np.unique(y_classified))\n",
    "    recall = recall_score(true_categories, y_classified, average='weighted', labels=np.unique(y_classified))\n",
    "    f1 = f1_score(true_categories, y_classified, average='weighted', labels=np.unique(y_classified))\n",
    "    roc_auc = roc_auc_score(true_categories, y_classified)\n",
    "    r2 = r2_score(y_test, y_pred)\n",
    "    MAPE = mean_absolute_percentage_error(y_test, y_pred)\n",
    "    MCC= matthews_corrcoef(true_categories, y_classified)\n",
    "    PCC, _ = pearsonr(y_test, y_pred)\n",
    "    SCC, _ = spearmanr(y_test, y_pred)\n",
    "    \n",
    "    return accuracy, balanced_accuracy, precision, recall, f1, roc_auc, r2, MAPE, MCC, PCC, SCC\n"
   ]
  },
  {
   "cell_type": "markdown",
   "id": "7ec85073-609b-4a82-a4c1-f4be503152dc",
   "metadata": {},
   "source": [
    "# Multi-Class Classifier"
   ]
  },
  {
   "cell_type": "code",
   "execution_count": 12,
   "id": "e58f5bee-62bc-4898-ac12-703af3a050e6",
   "metadata": {},
   "outputs": [],
   "source": [
    "def MultiClass_Classifier(y_test, y_pred, low, mid1, mid2, mid3, high):\n",
    "    from sklearn.metrics import classification_report, accuracy_score, precision_score, recall_score, f1_score\n",
    "    from sklearn.metrics import balanced_accuracy_score, roc_auc_score, r2_score, mean_absolute_percentage_error, matthews_corrcoef\n",
    "    from scipy.stats import pearsonr, spearmanr\n",
    "    \n",
    "    # Define the target value categories based on the updated ranges\n",
    "    category_ranges = [(low, mid1), (mid1, mid2), (mid2, mid3), (mid3, high)]  # Four ranges\n",
    "    categories = [1, 2, 3, 4]  # Four categories\n",
    "    \n",
    "    # Classify the predictions into categories based on the updated ranges\n",
    "    y_classified = []\n",
    "    \n",
    "    for prediction in y_pred:\n",
    "        for i, (start, end) in enumerate(category_ranges):\n",
    "            if start <= prediction < end:\n",
    "                y_classified.append(categories[i])\n",
    "                break\n",
    "    \n",
    "    # Define the true categories based on the target value ranges\n",
    "    true_categories = []\n",
    "    \n",
    "    for prediction in y_test:\n",
    "        for i, (start, end) in enumerate(category_ranges):\n",
    "            if start <= prediction < end:\n",
    "                true_categories.append(categories[i])\n",
    "                break\n",
    "    \n",
    "    # Calculate accuracy, precision, recall, and F1-score\n",
    "    accuracy = accuracy_score(true_categories, y_classified)\n",
    "    balanced_accuracy = balanced_accuracy_score(true_categories, y_classified)\n",
    "    precision = precision_score(true_categories, y_classified, average='weighted', labels=np.unique(y_classified))\n",
    "    recall = recall_score(true_categories, y_classified, average='weighted', labels=np.unique(y_classified))\n",
    "    f1 = f1_score(true_categories, y_classified, average='weighted', labels=np.unique(y_classified))\n",
    "    r2 = r2_score(y_test, y_pred)\n",
    "    MAPE = mean_absolute_percentage_error(y_test, y_pred)\n",
    "    MCC= matthews_corrcoef(true_categories, y_classified)\n",
    "    PCC, _ = pearsonr(y_test, y_pred)\n",
    "    SCC, _ = spearmanr(y_test, y_pred)\n",
    "    \n",
    "    return accuracy, balanced_accuracy, precision, recall, f1, r2, MAPE, MCC, PCC, SCC\n",
    "    \n"
   ]
  },
  {
   "cell_type": "code",
   "execution_count": 3,
   "id": "840ed056-b328-4311-b2f3-b74c07efbb71",
   "metadata": {},
   "outputs": [],
   "source": [
    "# !jupyter nbconvert --to script All_Classification_Models.ipynb"
   ]
  }
 ],
 "metadata": {
  "kernelspec": {
   "display_name": "Python 3 (ipykernel)",
   "language": "python",
   "name": "python3"
  },
  "language_info": {
   "codemirror_mode": {
    "name": "ipython",
    "version": 3
   },
   "file_extension": ".py",
   "mimetype": "text/x-python",
   "name": "python",
   "nbconvert_exporter": "python",
   "pygments_lexer": "ipython3",
   "version": "3.8.18"
  }
 },
 "nbformat": 4,
 "nbformat_minor": 5
}
