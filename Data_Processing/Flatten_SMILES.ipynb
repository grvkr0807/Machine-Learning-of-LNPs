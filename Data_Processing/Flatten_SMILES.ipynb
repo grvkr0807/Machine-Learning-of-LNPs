{
 "cells": [
  {
   "cell_type": "code",
   "execution_count": 2,
   "id": "ef0378b9-5d0f-4171-93c3-a16bde42461f",
   "metadata": {},
   "outputs": [],
   "source": [
    "import pandas as pd\n",
    "\n",
    "# Read data from the \"Midpoint\" sheet in the \"Activity.xlsx\" file\n",
    "input_file = r'C:\\Users\\grvkr\\Box\\Gaurav Kumar\\Purdue_Work\\SAR_NM\\Data\\Siegwart_group_Data8_2023\\Activity\\InVitro_SMILES.xlsx'  # Input file path\n",
    "sheet_name= \"SMILES array\"\n",
    "df = pd.read_excel(input_file, sheet_name=sheet_name)\n",
    "\n",
    "# Flatten the DataFrame to a single column\n",
    "flattened_data = df.values.flatten()\n",
    "\n",
    "# Convert the flattened array to a DataFrame\n",
    "flattened_df = pd.DataFrame(flattened_data, columns=[\"Lipid SMILES\"])\n",
    "\n",
    "# Write the flattened data to a new sheet in the same Excel file\n",
    "with pd.ExcelWriter(input_file, mode='a', engine='openpyxl', if_sheet_exists='replace') as writer:\n",
    "    flattened_df.to_excel(writer, sheet_name=\"SMILES\", index=False)\n"
   ]
  },
  {
   "cell_type": "code",
   "execution_count": null,
   "id": "1e5c2ba2-f51c-43f7-91d8-f51fd41cf690",
   "metadata": {},
   "outputs": [],
   "source": []
  }
 ],
 "metadata": {
  "kernelspec": {
   "display_name": "Python 3 (ipykernel)",
   "language": "python",
   "name": "python3"
  },
  "language_info": {
   "codemirror_mode": {
    "name": "ipython",
    "version": 3
   },
   "file_extension": ".py",
   "mimetype": "text/x-python",
   "name": "python",
   "nbconvert_exporter": "python",
   "pygments_lexer": "ipython3",
   "version": "3.8.18"
  }
 },
 "nbformat": 4,
 "nbformat_minor": 5
}
