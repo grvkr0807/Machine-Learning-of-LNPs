{
 "cells": [
  {
   "cell_type": "markdown",
   "id": "f676a549-a373-4566-9aa6-a6fac1837b8d",
   "metadata": {},
   "source": [
    "# Min-Max and Z-Score Normalization"
   ]
  },
  {
   "cell_type": "markdown",
   "id": "d9611476-3b84-4c68-8310-6199ba4d2428",
   "metadata": {},
   "source": [
    "# Activity"
   ]
  },
  {
   "cell_type": "code",
   "execution_count": 2,
   "id": "5224748a-da93-4f9d-ba96-3059c372dd82",
   "metadata": {},
   "outputs": [],
   "source": [
    "import pandas as pd\n",
    "from sklearn.preprocessing import MinMaxScaler, StandardScaler\n",
    "\n",
    "# Read data from Excel file\n",
    "def read_data(file_path, sheet_name):\n",
    "    data = pd.read_excel(file_path, sheet_name=sheet_name)\n",
    "    return data\n",
    "\n",
    "# Perform Min-Max normalization on the entire dataset\n",
    "def min_max_normalize_global(data):\n",
    "    scaler = MinMaxScaler()\n",
    "    # Flatten the data into a 1D array\n",
    "    data_flat = data.values.flatten().reshape(-1, 1)\n",
    "    normalized_data = scaler.fit_transform(data_flat)\n",
    "    normalized_df = pd.DataFrame(normalized_data, columns=[\"Normalized Data\"])\n",
    "    return normalized_df\n",
    "\n",
    "# Perform Z-score normalization on the entire dataset\n",
    "def z_score_normalize_global(data):\n",
    "    scaler = StandardScaler()\n",
    "    # Flatten the data into a 1D array\n",
    "    data_flat = data.values.flatten().reshape(-1, 1)\n",
    "    normalized_data = scaler.fit_transform(data_flat)\n",
    "    normalized_df = pd.DataFrame(normalized_data, columns=[\"Normalized Data\"])\n",
    "    return normalized_df\n",
    "\n",
    "# Save normalized data to Excel files\n",
    "def save_data(min_max_data, z_score_data, file_path):\n",
    "    with pd.ExcelWriter(file_path, engine='openpyxl', mode='a', if_sheet_exists='replace') as writer:\n",
    "        min_max_data.to_excel(writer, sheet_name='Min-Max Normalized', index=False)\n",
    "        z_score_data.to_excel(writer, sheet_name='Z-score Normalized', index=False)\n",
    "\n",
    "# Main function\n",
    "def main():\n",
    "    file_path = r'C:\\Users\\grvkr\\Box\\Gaurav Kumar\\Purdue_Work\\SAR_NM\\Data\\Anderson_group_Data6_2013\\Activity\\InVitro_Activity.xlsx'  # Input file path\n",
    "    sheet_name= \"Midpoint\"\n",
    "    data = read_data(file_path, sheet_name)\n",
    "\n",
    "    # Min-Max normalization\n",
    "    min_max_normalized_data = min_max_normalize_global(data)\n",
    "\n",
    "    # Z-score normalization\n",
    "    z_score_normalized_data = z_score_normalize_global(data)\n",
    "\n",
    "    save_data(min_max_normalized_data, z_score_normalized_data, file_path)\n",
    "\n",
    "if __name__ == \"__main__\":\n",
    "    main()\n"
   ]
  },
  {
   "cell_type": "markdown",
   "id": "48ba85a5-8b8c-4471-ac96-c44c6493636a",
   "metadata": {},
   "source": [
    "# Cell Viability"
   ]
  },
  {
   "cell_type": "code",
   "execution_count": 3,
   "id": "2d147c70-6d18-4d84-bc47-16c6c5019de5",
   "metadata": {},
   "outputs": [],
   "source": [
    "import pandas as pd\n",
    "from sklearn.preprocessing import MinMaxScaler, StandardScaler\n",
    "\n",
    "# Read data from Excel file\n",
    "def read_data(file_path, sheet_name):\n",
    "    data = pd.read_excel(file_path, sheet_name=sheet_name)\n",
    "    return data\n",
    "\n",
    "# Perform Min-Max normalization on the entire dataset\n",
    "def min_max_normalize_global(data):\n",
    "    scaler = MinMaxScaler()\n",
    "    # Flatten the data into a 1D array\n",
    "    data_flat = data.values.flatten().reshape(-1, 1)\n",
    "    normalized_data = scaler.fit_transform(data_flat)\n",
    "    normalized_df = pd.DataFrame(normalized_data, columns=[\"Normalized Data\"])\n",
    "    return normalized_df\n",
    "\n",
    "# Perform Z-score normalization on the entire dataset\n",
    "def z_score_normalize_global(data):\n",
    "    scaler = StandardScaler()\n",
    "    # Flatten the data into a 1D array\n",
    "    data_flat = data.values.flatten().reshape(-1, 1)\n",
    "    normalized_data = scaler.fit_transform(data_flat)\n",
    "    normalized_df = pd.DataFrame(normalized_data, columns=[\"Normalized Data\"])\n",
    "    return normalized_df\n",
    "\n",
    "# Save normalized data to Excel files\n",
    "def save_data(min_max_data, z_score_data, file_path):\n",
    "    with pd.ExcelWriter(file_path, engine='openpyxl', mode='a', if_sheet_exists='replace') as writer:\n",
    "        min_max_data.to_excel(writer, sheet_name='Min-Max Normalized', index=False)\n",
    "        z_score_data.to_excel(writer, sheet_name='Z-score Normalized', index=False)\n",
    "\n",
    "# Main function\n",
    "def main():\n",
    "    file_path = r'C:\\Users\\grvkr\\Box\\Gaurav Kumar\\Purdue_Work\\SAR_NM\\Data\\Anderson_group_Data6_2013\\Cell_Viability\\InVitro_Cell_Viability.xlsx'  # Input file path\n",
    "    sheet_name= \"Midpoint\"\n",
    "    data = read_data(file_path, sheet_name)\n",
    "\n",
    "    # Min-Max normalization\n",
    "    min_max_normalized_data = min_max_normalize_global(data)\n",
    "\n",
    "    # Z-score normalization\n",
    "    z_score_normalized_data = z_score_normalize_global(data)\n",
    "\n",
    "    save_data(min_max_normalized_data, z_score_normalized_data, file_path)\n",
    "\n",
    "if __name__ == \"__main__\":\n",
    "    main()\n"
   ]
  },
  {
   "cell_type": "code",
   "execution_count": null,
   "id": "6fad1569-faad-43b0-b189-3c6979a548cf",
   "metadata": {},
   "outputs": [],
   "source": []
  }
 ],
 "metadata": {
  "kernelspec": {
   "display_name": "Python 3 (ipykernel)",
   "language": "python",
   "name": "python3"
  },
  "language_info": {
   "codemirror_mode": {
    "name": "ipython",
    "version": 3
   },
   "file_extension": ".py",
   "mimetype": "text/x-python",
   "name": "python",
   "nbconvert_exporter": "python",
   "pygments_lexer": "ipython3",
   "version": "3.8.18"
  }
 },
 "nbformat": 4,
 "nbformat_minor": 5
}
